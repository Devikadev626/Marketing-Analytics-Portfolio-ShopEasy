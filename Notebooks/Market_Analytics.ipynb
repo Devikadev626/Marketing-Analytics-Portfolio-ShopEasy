{
 "cells": [
  {
   "cell_type": "code",
   "execution_count": 11,
   "id": "3ed8ef54-9147-4a04-b65e-b5869cf0aed3",
   "metadata": {},
   "outputs": [],
   "source": [
    "import pandas as pd\n",
    "import sqlalchemy\n",
    "from sqlalchemy import create_engine\n",
    "import nltk\n",
    "from nltk.sentiment.vader import SentimentIntensityAnalyzer\n"
   ]
  },
  {
   "cell_type": "code",
   "execution_count": 12,
   "id": "2a72b3d9-df36-42a2-b7f9-d8767c01d8dd",
   "metadata": {},
   "outputs": [],
   "source": [
    "engine = create_engine(\"mssql+pyodbc://LAPTOP-E9022B9F\\SQLEXPRESS/PortfolioProject_MarketingAnalytics?trusted_connection=yes&driver=SQL+Server\")\n"
   ]
  },
  {
   "cell_type": "code",
   "execution_count": 13,
   "id": "a1085c42-4767-4eb0-b346-3aa1e2c0a17a",
   "metadata": {},
   "outputs": [],
   "source": [
    "# Function to fetch data from SQL Server\n",
    "def fetch_data_from_sql():\n",
    "    query = \"SELECT ReviewID, CustomerID, ProductID, ReviewDate, Rating, ReviewText FROM dbo.customer_reviews\"\n",
    "    df = pd.read_sql(query, engine)\n",
    "    return df"
   ]
  },
  {
   "cell_type": "code",
   "execution_count": 14,
   "id": "061e9907-1db2-4c38-97f8-adaaa32a4f07",
   "metadata": {},
   "outputs": [],
   "source": [
    "# Fetch customer reviews\n",
    "customer_reviews_df = fetch_data_from_sql()"
   ]
  },
  {
   "cell_type": "code",
   "execution_count": 15,
   "id": "a61d03e6-eba1-4010-b281-b2a4f7347590",
   "metadata": {},
   "outputs": [],
   "source": [
    "# Initialize Sentiment Analyzer\n",
    "sia = SentimentIntensityAnalyzer()\n"
   ]
  },
  {
   "cell_type": "code",
   "execution_count": 16,
   "id": "3c7b07ad-6548-48ef-934c-bf81b11fdd3f",
   "metadata": {},
   "outputs": [],
   "source": [
    "# Function to calculate sentiment score\n",
    "def calculate_sentiment(review):\n",
    "    sentiment = sia.polarity_scores(str(review))  # Ensure review is a string\n",
    "    return sentiment['compound']\n"
   ]
  },
  {
   "cell_type": "code",
   "execution_count": 17,
   "id": "9b3a1314-beab-408d-8d0e-983197fcddb2",
   "metadata": {},
   "outputs": [],
   "source": [
    "# Define a function to categorize sentiment using both the sentiment score and the review rating\n",
    "def categorize_sentiment(score, rating):\n",
    "    # Use both the text sentiment score and the numerical rating to determine sentiment category\n",
    "    if score > 0.05:  # Positive sentiment score\n",
    "        if rating >= 4:\n",
    "            return 'Positive'  # High rating and positive sentiment\n",
    "        elif rating == 3:\n",
    "            return 'Mixed Positive'  # Neutral rating but positive sentiment\n",
    "        else:\n",
    "            return 'Mixed Negative'  # Low rating but positive sentiment\n",
    "    elif score < -0.05:  # Negative sentiment score\n",
    "        if rating <= 2:\n",
    "            return 'Negative'  # Low rating and negative sentiment\n",
    "        elif rating == 3:\n",
    "            return 'Mixed Negative'  # Neutral rating but negative sentiment\n",
    "        else:\n",
    "            return 'Mixed Positive'  # High rating but negative sentiment\n",
    "    else:  # Neutral sentiment score\n",
    "        if rating >= 4:\n",
    "            return 'Positive'  # High rating with neutral sentiment\n",
    "        elif rating <= 2:\n",
    "            return 'Negative'  # Low rating with neutral sentiment\n",
    "        else:\n",
    "            return 'Neutral'  # Neutral rating and neutral sentiment"
   ]
  },
  {
   "cell_type": "code",
   "execution_count": 18,
   "id": "fdb9d8fb-5f3e-4789-94a0-df7bc748b532",
   "metadata": {},
   "outputs": [],
   "source": [
    "# Define a function to bucket sentiment scores into text ranges\n",
    "def sentiment_bucket(score):\n",
    "    if score >= 0.5:\n",
    "        return '0.5 to 1.0'  # Strongly positive sentiment\n",
    "    elif 0.0 <= score < 0.5:\n",
    "        return '0.0 to 0.49'  # Mildly positive sentiment\n",
    "    elif -0.5 <= score < 0.0:\n",
    "        return '-0.49 to 0.0'  # Mildly negative sentiment\n",
    "    else:\n",
    "        return '-1.0 to -0.5'  # Strongly negative sentiment"
   ]
  },
  {
   "cell_type": "code",
   "execution_count": 19,
   "id": "e85ab8a0-8fc9-4926-8adc-20f40593d3ae",
   "metadata": {},
   "outputs": [],
   "source": [
    "# Apply sentiment analysis\n",
    "customer_reviews_df['SentimentScore'] = customer_reviews_df['ReviewText'].apply(calculate_sentiment)"
   ]
  },
  {
   "cell_type": "code",
   "execution_count": 20,
   "id": "47034769-5e35-4e58-9e02-1f19ff9485ca",
   "metadata": {},
   "outputs": [],
   "source": [
    "# Apply sentiment categorization using both text and rating\n",
    "customer_reviews_df['SentimentCategory'] = customer_reviews_df.apply(\n",
    "    lambda row: categorize_sentiment(row['SentimentScore'], row['Rating']), axis=1)"
   ]
  },
  {
   "cell_type": "code",
   "execution_count": 32,
   "id": "afc7cb24-6128-4082-a858-4d9bcb49d157",
   "metadata": {},
   "outputs": [],
   "source": [
    "# Apply sentiment bucketing to categorize scores into defined ranges\n",
    "customer_reviews_df['SentimentBucket'] = customer_reviews_df['SentimentScore'].apply(sentiment_bucket)"
   ]
  },
  {
   "cell_type": "code",
   "execution_count": 34,
   "id": "33f2c70b-270c-4ea7-9736-ab272f06fdce",
   "metadata": {},
   "outputs": [
    {
     "name": "stdout",
     "output_type": "stream",
     "text": [
      "   ReviewID  CustomerID  ProductID  ReviewDate  Rating  \\\n",
      "0         1          77         18  2023-12-23       3   \n",
      "1         2          80         19  2024-12-25       5   \n",
      "2         3          50         13  2025-01-26       4   \n",
      "3         4          78         15  2025-04-21       3   \n",
      "4         5          64          2  2023-07-16       3   \n",
      "\n",
      "                                 ReviewText  SentimentScore SentimentCategory  \\\n",
      "0   Average  experience,  nothing  special.         -0.3089    Mixed Negative   \n",
      "1            The  quality  is    top-notch.          0.0000          Positive   \n",
      "2   Five  stars  for  the  quick  delivery.          0.0000          Positive   \n",
      "3  Good  quality,  but  could  be  cheaper.          0.2382    Mixed Positive   \n",
      "4   Average  experience,  nothing  special.         -0.3089    Mixed Negative   \n",
      "\n",
      "  SentimentBucket  \n",
      "0    -0.49 to 0.0  \n",
      "1     0.0 to 0.49  \n",
      "2     0.0 to 0.49  \n",
      "3     0.0 to 0.49  \n",
      "4    -0.49 to 0.0  \n"
     ]
    }
   ],
   "source": [
    "\n",
    "# Display the first few rows of the DataFrame with sentiment scores, categories, and buckets\n",
    "print(customer_reviews_df.head())"
   ]
  },
  {
   "cell_type": "code",
   "execution_count": 36,
   "id": "b1c15937-e399-4bd0-a7ed-7d6569fc940e",
   "metadata": {},
   "outputs": [],
   "source": [
    "# Save the DataFrame with sentiment scores, categories, and buckets to a new CSV file\n",
    "customer_reviews_df.to_csv('fact_customer_reviews_with_sentiment.csv', index=False)"
   ]
  },
  {
   "cell_type": "code",
   "execution_count": null,
   "id": "c4ba07bc-0e57-429c-9bb8-2c5b0d300c66",
   "metadata": {},
   "outputs": [
    {
     "name": "stdout",
     "output_type": "stream",
     "text": [
      " * Serving Flask app '__main__'\n",
      " * Debug mode: off\n"
     ]
    },
    {
     "name": "stderr",
     "output_type": "stream",
     "text": [
      "WARNING: This is a development server. Do not use it in a production deployment. Use a production WSGI server instead.\n",
      " * Running on http://127.0.0.1:5000\n",
      "Press CTRL+C to quit\n"
     ]
    }
   ],
   "source": [
    "import flask\n",
    "from flask import send_file\n",
    "\n",
    "app = flask.Flask(__name__)\n",
    "\n",
    "@app.route('/download')\n",
    "def download_file():\n",
    "    return send_file(\"customer_reviews_sentiment.csv\", as_attachment=True)\n",
    "\n",
    "app.run(port=5000)\n"
   ]
  },
  {
   "cell_type": "code",
   "execution_count": null,
   "id": "bc9d68d3-517e-4a8c-b8bf-93042d6ec750",
   "metadata": {},
   "outputs": [],
   "source": []
  }
 ],
 "metadata": {
  "kernelspec": {
   "display_name": "Python 3 (ipykernel)",
   "language": "python",
   "name": "python3"
  },
  "language_info": {
   "codemirror_mode": {
    "name": "ipython",
    "version": 3
   },
   "file_extension": ".py",
   "mimetype": "text/x-python",
   "name": "python",
   "nbconvert_exporter": "python",
   "pygments_lexer": "ipython3",
   "version": "3.11.7"
  }
 },
 "nbformat": 4,
 "nbformat_minor": 5
}
